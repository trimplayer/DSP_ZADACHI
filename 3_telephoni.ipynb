{
 "cells": [
  {
   "cell_type": "code",
   "execution_count": null,
   "id": "800a664e-6bc8-49de-81f7-c4bb1aee01c1",
   "metadata": {},
   "outputs": [],
   "source": [
    "#from: https://github.com/iShkiper/DSP_24.M20_21/blob/main/%D0%9A%D0%BE%D0%B4/1.1.0%20DFT_1D_on.ipynb"
   ]
  },
  {
   "cell_type": "code",
   "execution_count": null,
   "id": "a9e39cbb-b0c8-4cb6-9763-5be6cbe95fd2",
   "metadata": {},
   "outputs": [],
   "source": []
  },
  {
   "cell_type": "code",
   "execution_count": 5,
   "id": "8d400ac6-4fbd-4469-b5f5-a9512962393a",
   "metadata": {},
   "outputs": [],
   "source": [
    "from scipy.fftpack import fft, ifft, fftshift\n",
    "from scipy.io import wavfile\n",
    "import numpy as np\n",
    "import matplotlib.pyplot as plt\n",
    "from scipy.signal import get_window\n",
    "\n",
    "fs, sig = wavfile.read('source\\signals\\phoneNumber'+str(0)+'.wav')"
   ]
  },
  {
   "cell_type": "code",
   "execution_count": 6,
   "id": "fa1c9568-72c0-4cfa-9b98-352aa11c3d66",
   "metadata": {},
   "outputs": [],
   "source": [
    "# DTMF частоты\n",
    "ROW_FREQS = [697, 770, 852, 941]\n",
    "COL_FREQS = [1209, 1336, 1477]\n",
    "DTMF_MAP = {\n",
    "    (697, 1209): '1', (697, 1336): '2', (697, 1477): '3',\n",
    "    (770, 1209): '4', (770, 1336): '5', (770, 1477): '6',\n",
    "    (852, 1209): '7', (852, 1336): '8', (852, 1477): '9',\n",
    "    (941, 1209): '*', (941, 1336): '0', (941, 1477): '#'\n",
    "}\n"
   ]
  },
  {
   "cell_type": "code",
   "execution_count": 10,
   "id": "886a9715-c55a-44fa-b412-86e0a77260e4",
   "metadata": {},
   "outputs": [],
   "source": [
    "def freq_from_fft(signal, rate, freqs):  # детект частот\n",
    "    N = len(signal)\n",
    "    windowed = signal * get_window('hann', N)\n",
    "    spectrum = np.abs(np.fft.rfft(windowed))\n",
    "    freqs_bins = np.fft.rfftfreq(N, 1 / rate)\n",
    "    \n",
    "    detected = {}\n",
    "    for target in freqs:\n",
    "        idx = np.argmin(np.abs(freqs_bins - target))\n",
    "        detected[target] = spectrum[idx]\n",
    "    return detected"
   ]
  },
  {
   "cell_type": "code",
   "execution_count": 22,
   "id": "ff17bebd-de28-41a6-a130-db657f8163fc",
   "metadata": {},
   "outputs": [
    {
     "data": {
      "text/plain": [
       "{697: np.float64(286.80949291999747),\n",
       " 770: np.float64(5.430858378844015),\n",
       " 852: np.float64(873.9289535699147),\n",
       " 941: np.float64(17.317725975926216)}"
      ]
     },
     "execution_count": 22,
     "metadata": {},
     "output_type": "execute_result"
    }
   ],
   "source": [
    "freq_from_fft(sig,fs,ROW_FREQS)"
   ]
  },
  {
   "cell_type": "code",
   "execution_count": 111,
   "id": "3684a891-e1ec-4be4-a368-54ff46813b66",
   "metadata": {},
   "outputs": [],
   "source": [
    "def decode(fs,sig):\n",
    "    window_size = int(0.05 * fs)\n",
    "    #window_size = int(fs * 4000/11 / 1000)\n",
    "    step = window_size\n",
    "    digits = []\n",
    "\n",
    "    for i in range(0, len(sig) - window_size, step):\n",
    "        frame = sig[i:i+window_size]\n",
    "        low_mags = freq_from_fft(frame, fs, ROW_FREQS)\n",
    "        high_mags = freq_from_fft(frame, fs, COL_FREQS)\n",
    "\n",
    "        low = max(low_mags, key=low_mags.get)\n",
    "        high = max(high_mags, key=high_mags.get)\n",
    "        threshold = 25\n",
    "        if low_mags[low] > threshold and high_mags[high] > threshold:\n",
    "            digit = DTMF_MAP.get((low, high))\n",
    "            \n",
    "            if digit and (not digits or digits[-1] != digit):\n",
    "                digits.append(digit)\n",
    "        \n",
    "            \n",
    "    \n",
    "    return ''.join(digits)"
   ]
  },
  {
   "cell_type": "code",
   "execution_count": 112,
   "id": "da085ff2-79ba-41e1-998e-bcce960b9e00",
   "metadata": {},
   "outputs": [
    {
     "data": {
      "text/plain": [
       "'891750168'"
      ]
     },
     "execution_count": 112,
     "metadata": {},
     "output_type": "execute_result"
    }
   ],
   "source": [
    "decode(fs,sig)\n"
   ]
  },
  {
   "cell_type": "code",
   "execution_count": 113,
   "id": "38b5b3d5-9d9e-4815-b00a-99cc15a5ab6e",
   "metadata": {},
   "outputs": [
    {
     "name": "stdout",
     "output_type": "stream",
     "text": [
      "8921989797\n",
      "89215371248\n",
      "923083\n",
      "8905780\n",
      "8902180\n",
      "890125942\n",
      "8915079315\n",
      "891289327\n",
      "891831903\n",
      "891750168\n"
     ]
    }
   ],
   "source": [
    "for i in range(10):\n",
    "    fs, sig = wavfile.read('source\\signals\\phoneNumber'+str(i)+'.wav')\n",
    "    \n",
    "   #### декодировать сигнал sig ####\n",
    "    print(decode(fs,sig))"
   ]
  },
  {
   "cell_type": "code",
   "execution_count": null,
   "id": "fa1c296e-85da-41f4-9e10-c7189cba3ecd",
   "metadata": {},
   "outputs": [],
   "source": []
  },
  {
   "cell_type": "code",
   "execution_count": null,
   "id": "48efd70e-feb2-45e6-b62e-3ded6896ab09",
   "metadata": {},
   "outputs": [],
   "source": []
  }
 ],
 "metadata": {
  "kernelspec": {
   "display_name": "Python 3 (ipykernel)",
   "language": "python",
   "name": "python3"
  },
  "language_info": {
   "codemirror_mode": {
    "name": "ipython",
    "version": 3
   },
   "file_extension": ".py",
   "mimetype": "text/x-python",
   "name": "python",
   "nbconvert_exporter": "python",
   "pygments_lexer": "ipython3",
   "version": "3.9.13"
  }
 },
 "nbformat": 4,
 "nbformat_minor": 5
}
