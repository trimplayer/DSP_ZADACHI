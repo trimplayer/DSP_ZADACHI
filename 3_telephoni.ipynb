{
 "cells": [
  {
   "cell_type": "code",
   "execution_count": null,
   "id": "800a664e-6bc8-49de-81f7-c4bb1aee01c1",
   "metadata": {},
   "outputs": [],
   "source": [
    "#from: https://github.com/iShkiper/DSP_24.M20_21/blob/main/%D0%9A%D0%BE%D0%B4/1.1.0%20DFT_1D_on.ipynb"
   ]
  },
  {
   "cell_type": "code",
   "execution_count": null,
   "id": "a9e39cbb-b0c8-4cb6-9763-5be6cbe95fd2",
   "metadata": {},
   "outputs": [],
   "source": []
  },
  {
   "cell_type": "code",
   "execution_count": 9,
   "id": "8d400ac6-4fbd-4469-b5f5-a9512962393a",
   "metadata": {},
   "outputs": [],
   "source": [
    "from scipy.fftpack import fft, ifft, fftshift\n",
    "from scipy.io import wavfile\n",
    "import numpy as np\n",
    "import matplotlib.pyplot as plt\n",
    "from scipy.signal import get_window\n",
    "\n",
    "\n",
    "fs, sig = wavfile.read('source\\signals\\phoneNumber'+str(0)+'.wav')"
   ]
  },
  {
   "cell_type": "code",
   "execution_count": 16,
   "id": "fa1c9568-72c0-4cfa-9b98-352aa11c3d66",
   "metadata": {},
   "outputs": [],
   "source": [
    "# DTMF частоты\n",
    "ROW_FREQS = [697, 770, 852, 941]\n",
    "COL_FREQS = [1209, 1336, 1477]\n",
    "DTMF_MAP = {\n",
    "    (697, 1209): '1', (697, 1336): '2', (697, 1477): '3',\n",
    "    (770, 1209): '4', (770, 1336): '5', (770, 1477): '6',\n",
    "    (852, 1209): '7', (852, 1336): '8', (852, 1477): '9',\n",
    "    (941, 1209): '*', (941, 1336): '0', (941, 1477): '#'\n",
    "}\n"
   ]
  },
  {
   "cell_type": "code",
   "execution_count": 14,
   "id": "886a9715-c55a-44fa-b412-86e0a77260e4",
   "metadata": {},
   "outputs": [],
   "source": [
    "def freq_from_fft(signal, rate, freqs):  # детект частот\n",
    "    N = len(signal)\n",
    "    windowed = signal * get_window('hann', N)\n",
    "    spectrum = np.abs(np.fft.rfft(windowed))\n",
    "    freqs_bins = np.fft.rfftfreq(N, 1 / rate)\n",
    "    \n",
    "    detected = {}\n",
    "    for target in freqs:\n",
    "        idx = np.argmin(np.abs(freqs_bins - target))\n",
    "        detected[target] = spectrum[idx]\n",
    "    return detected"
   ]
  },
  {
   "cell_type": "code",
   "execution_count": 22,
   "id": "ff17bebd-de28-41a6-a130-db657f8163fc",
   "metadata": {},
   "outputs": [
    {
     "data": {
      "text/plain": [
       "{697: np.float64(286.80949291999747),\n",
       " 770: np.float64(5.430858378844015),\n",
       " 852: np.float64(873.9289535699147),\n",
       " 941: np.float64(17.317725975926216)}"
      ]
     },
     "execution_count": 22,
     "metadata": {},
     "output_type": "execute_result"
    }
   ],
   "source": [
    "freq_from_fft(sig,fs,ROW_FREQS)"
   ]
  },
  {
   "cell_type": "code",
   "execution_count": 165,
   "id": "3c84bd53-0d84-48e0-aa19-60e758aa60ac",
   "metadata": {},
   "outputs": [],
   "source": [
    "def decode_with_bins( sample_rate,sig, binsize=300, split=4, threshold_repeat=20):\n",
    "    step = binsize // split\n",
    "    prev_value = None\n",
    "    prev_count = 0\n",
    "    digits = []\n",
    "    \n",
    "   \n",
    "    \n",
    "    for start in range(0, len(sig)-binsize, step):\n",
    "        chunk = sig[start:start+binsize]\n",
    "        \n",
    "        \n",
    "        for i in range(0, binsize, binsize//split):\n",
    "            sub = chunk[i:i+binsize//split]\n",
    "            low_mags = freq_from_fft(sub, fs, ROW_FREQS)\n",
    "            high_mags = freq_from_fft(sub, fs, COL_FREQS)\n",
    "            low = max(low_mags, key=low_mags.get)\n",
    "            high = max(high_mags, key=high_mags.get)\n",
    "            threshold = 1\n",
    "            \n",
    "            \n",
    "            digit = DTMF_MAP.get((low, high))\n",
    "                \n",
    "            if digit == prev_value:\n",
    "                prev_count += 1\n",
    "                if prev_count == threshold_repeat:\n",
    "                    digits.append(digit)\n",
    "            else:        \n",
    "                prev_value = digit   # maybe should add new number here\n",
    "                prev_count = 1\n",
    "    return ''.join(digits)"
   ]
  },
  {
   "cell_type": "code",
   "execution_count": 101,
   "id": "e3fa2143-8b5b-48ad-8c67-efe77b748dc1",
   "metadata": {},
   "outputs": [
    {
     "data": {
      "text/plain": [
       "'891174501668'"
      ]
     },
     "execution_count": 101,
     "metadata": {},
     "output_type": "execute_result"
    }
   ],
   "source": [
    "decode_with_bins(fs,sig)"
   ]
  },
  {
   "cell_type": "code",
   "execution_count": 178,
   "id": "fa1c296e-85da-41f4-9e10-c7189cba3ecd",
   "metadata": {},
   "outputs": [
    {
     "name": "stdout",
     "output_type": "stream",
     "text": [
      "89219897977  len:11\n",
      "89212371218  len:11\n",
      "89213902833  len:11\n",
      "89022211780  len:11\n",
      "89022731180  len:11\n",
      "89021229912  len:11\n",
      "89112079312  len:11\n",
      "89212893227  len:11\n",
      "89118319033  len:11\n",
      "89117120138  len:11\n"
     ]
    }
   ],
   "source": [
    "for i in range(10):\n",
    "    fs, sig = wavfile.read('source\\signals\\phoneNumber'+str(i)+'.wav')\n",
    "    \n",
    "   #### декодировать сигнал sig ####\n",
    "    number = decode_with_bins(fs,sig,binsize=306,split=4,threshold_repeat=9)\n",
    "    print(number+'  len:'+str(len(number))) # the great parameters hacking"
   ]
  },
  {
   "cell_type": "code",
   "execution_count": null,
   "id": "48efd70e-feb2-45e6-b62e-3ded6896ab09",
   "metadata": {},
   "outputs": [],
   "source": []
  }
 ],
 "metadata": {
  "kernelspec": {
   "display_name": "Python 3 (ipykernel)",
   "language": "python",
   "name": "python3"
  },
  "language_info": {
   "codemirror_mode": {
    "name": "ipython",
    "version": 3
   },
   "file_extension": ".py",
   "mimetype": "text/x-python",
   "name": "python",
   "nbconvert_exporter": "python",
   "pygments_lexer": "ipython3",
   "version": "3.9.13"
  }
 },
 "nbformat": 4,
 "nbformat_minor": 5
}
